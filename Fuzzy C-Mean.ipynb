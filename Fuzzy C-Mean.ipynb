{
  "nbformat": 4,
  "nbformat_minor": 0,
  "metadata": {
    "colab": {
      "name": "FCM.ipynb",
      "version": "0.3.2",
      "provenance": [],
      "collapsed_sections": []
    },
    "kernelspec": {
      "name": "python3",
      "display_name": "Python 3"
    }
  },
  "cells": [
    {
      "metadata": {
        "id": "ru_dwM4B8Qrn",
        "colab_type": "code",
        "colab": {}
      },
      "cell_type": "code",
      "source": [
        "!pip install scikit-cmeans\n"
      ],
      "execution_count": 0,
      "outputs": []
    },
    {
      "metadata": {
        "id": "yTRzKldSwvGz",
        "colab_type": "code",
        "colab": {}
      },
      "cell_type": "code",
      "source": [
        "!pip install scikit-fuzzy"
      ],
      "execution_count": 0,
      "outputs": []
    },
    {
      "metadata": {
        "id": "TyidLkvATvGb",
        "colab_type": "text"
      },
      "cell_type": "markdown",
      "source": [
        "# INBUILT FUNCTION"
      ]
    },
    {
      "metadata": {
        "id": "ljIqmKnguG57",
        "colab_type": "code",
        "colab": {}
      },
      "cell_type": "code",
      "source": [
        "import numpy as np\n",
        "import sklearn as sk\n",
        "import sklearn.datasets as ds\n",
        "import skfuzzy as fuzz\n"
      ],
      "execution_count": 0,
      "outputs": []
    },
    {
      "metadata": {
        "id": "z09wIOgqwAEX",
        "colab_type": "code",
        "outputId": "09f51552-f95c-446d-a0ce-e72633e742f2",
        "colab": {
          "base_uri": "https://localhost:8080/",
          "height": 127
        }
      },
      "cell_type": "code",
      "source": [
        "iris = ds.load_iris()\n",
        "\n",
        "labels = iris.target_names\n",
        "target = iris.target\n",
        "iris = np.array(iris.data).T\n",
        "print(labels)\n",
        "print(target)\n",
        "\n",
        "clusters = 3\n",
        "cntr, u, u0, d, jm, p, fpc = fuzz.cluster.cmeans(iris, clusters, 2, error=0.005, maxiter=1000, init=None)\n",
        "iris = iris.T"
      ],
      "execution_count": 5,
      "outputs": [
        {
          "output_type": "stream",
          "text": [
            "['setosa' 'versicolor' 'virginica']\n",
            "[0 0 0 0 0 0 0 0 0 0 0 0 0 0 0 0 0 0 0 0 0 0 0 0 0 0 0 0 0 0 0 0 0 0 0 0 0\n",
            " 0 0 0 0 0 0 0 0 0 0 0 0 0 1 1 1 1 1 1 1 1 1 1 1 1 1 1 1 1 1 1 1 1 1 1 1 1\n",
            " 1 1 1 1 1 1 1 1 1 1 1 1 1 1 1 1 1 1 1 1 1 1 1 1 1 1 2 2 2 2 2 2 2 2 2 2 2\n",
            " 2 2 2 2 2 2 2 2 2 2 2 2 2 2 2 2 2 2 2 2 2 2 2 2 2 2 2 2 2 2 2 2 2 2 2 2 2\n",
            " 2 2]\n"
          ],
          "name": "stdout"
        }
      ]
    },
    {
      "metadata": {
        "id": "w9QAvt2xAKd0",
        "colab_type": "code",
        "outputId": "ad175c11-f96a-453c-f810-9c82d272b7cf",
        "colab": {
          "base_uri": "https://localhost:8080/",
          "height": 72
        }
      },
      "cell_type": "code",
      "source": [
        "cntr"
      ],
      "execution_count": 6,
      "outputs": [
        {
          "output_type": "execute_result",
          "data": {
            "text/plain": [
              "array([[5.88824985, 2.76082332, 4.36295471, 1.39680135],\n",
              "       [5.00396437, 3.4141226 , 1.48276058, 0.25352167],\n",
              "       [6.77418675, 3.05214199, 5.64575359, 2.05314922]])"
            ]
          },
          "metadata": {
            "tags": []
          },
          "execution_count": 6
        }
      ]
    },
    {
      "metadata": {
        "id": "qLL6s6hlAaw7",
        "colab_type": "code",
        "colab": {}
      },
      "cell_type": "code",
      "source": [
        "def distance(point,centers):\n",
        "    a=np.sqrt(np.square(point[0]-centers[0][0])+np.square(point[1]-centers[0][1])+np.square(point[2]-centers[0][2])+np.square(point[3]-centers[0][3]))\n",
        "    b=np.sqrt(np.square(point[0]-centers[1][0])+np.square(point[1]-centers[1][1])+np.square(point[2]-centers[1][2])+np.square(point[3]-centers[1][3]))\n",
        "    c=np.sqrt(np.square(point[0]-centers[2][0])+np.square(point[1]-centers[2][1])+np.square(point[2]-centers[2][2])+np.square(point[3]-centers[2][3])) \n",
        "    return a,b,c"
      ],
      "execution_count": 0,
      "outputs": []
    },
    {
      "metadata": {
        "id": "XoAuT7FeA48t",
        "colab_type": "code",
        "outputId": "dd680f67-338b-473a-a8d0-4dd5cf8350aa",
        "colab": {
          "base_uri": "https://localhost:8080/",
          "height": 35
        }
      },
      "cell_type": "code",
      "source": [
        "predicted_class=[]\n",
        "for i in range (iris.shape[0]):\n",
        "    a,b,c=distance(iris[i],cntr)\n",
        "    clas=min(a,b,c)\n",
        "    if(clas==a):\n",
        "        predicted_class.append(1)\n",
        "    elif(clas==b):\n",
        "        predicted_class.append(2)\n",
        "    elif(clas==c):\n",
        "        predicted_class.append(0)\n",
        "\n",
        "import numpy as np\n",
        "from sklearn.metrics import accuracy_score\n",
        "accuracy_userdefine = accuracy_score(predicted_class, target)\n",
        "print('Accuracy of Inbuilt Function is : ',accuracy_userdefine)"
      ],
      "execution_count": 8,
      "outputs": [
        {
          "output_type": "stream",
          "text": [
            "Accuracy of Inbuilt Function is :  0.31333333333333335\n"
          ],
          "name": "stdout"
        }
      ]
    },
    {
      "metadata": {
        "id": "5El2TSz-S8U8",
        "colab_type": "text"
      },
      "cell_type": "markdown",
      "source": [
        "# USER DEFINE FUNCTION"
      ]
    },
    {
      "metadata": {
        "id": "EYjPPrjsCXCz",
        "colab_type": "code",
        "colab": {}
      },
      "cell_type": "code",
      "source": [
        "import pandas as pd\n",
        "import numpy as np\n",
        "import random\n",
        "import operator\n",
        "import math\n",
        "\n",
        "#!pip install pydrive\n",
        "from pydrive.auth import GoogleAuth\n",
        "from pydrive.drive import GoogleDrive\n",
        "from google.colab import auth\n",
        "from oauth2client.client import GoogleCredentials\n",
        "\n",
        "from matplotlib import pyplot as plt\n",
        "import pandas as pd\n",
        "from copy import deepcopy\n",
        "import numpy as np\n",
        "\n",
        "def GoogleDriveAuth(ID):\n",
        "    auth.authenticate_user()\n",
        "    gauth = GoogleAuth()\n",
        "    gauth.credentials = GoogleCredentials.get_application_default()\n",
        "    drive = GoogleDrive(gauth)\n",
        "    file = drive.CreateFile({'id': ID})\n",
        "    return file\n",
        "File_ID = '1I0ZKCNu1Y7lF_3is4e39rtsSDSCf9eRW'\n",
        "file_name = GoogleDriveAuth(File_ID)\n",
        "file_name.GetContentFile('iris.csv')\n",
        "df_full = pd.read_csv('iris.csv')\n"
      ],
      "execution_count": 0,
      "outputs": []
    },
    {
      "metadata": {
        "id": "GrKZyCgXRsIa",
        "colab_type": "code",
        "colab": {}
      },
      "cell_type": "code",
      "source": [
        "columns = list(df_full.columns)\n",
        "features = columns[:len(columns)-1]\n",
        "class_labels = list(df_full[columns[-1]])\n",
        "df = df_full[features]\n",
        "\n",
        "# Number of Attributes\n",
        "num_attr = len(df.columns) - 1\n",
        "\n",
        "# Number of Clusters\n",
        "k = 3\n",
        "\n",
        "# Maximum number of iterations\n",
        "MAX_ITER = 100\n",
        "\n",
        "# Number of data points\n",
        "n = len(df)\n",
        "\n",
        "# Fuzzy parameter\n",
        "m = 3.00"
      ],
      "execution_count": 0,
      "outputs": []
    },
    {
      "metadata": {
        "id": "9kpmUK65Ru0P",
        "colab_type": "code",
        "colab": {}
      },
      "cell_type": "code",
      "source": [
        "def initializeMembershipMatrix():\n",
        "    membership_mat = list()\n",
        "    for i in range(n):\n",
        "        random_num_list = [random.random() for i in range(k)]\n",
        "        summation = sum(random_num_list)\n",
        "        temp_list = [x/summation for x in random_num_list]\n",
        "        membership_mat.append(temp_list)\n",
        "    return membership_mat\n",
        "\n",
        "def calculateClusterCenter(membership_mat):\n",
        "    cluster_mem_val = list(zip(*membership_mat))\n",
        "    cluster_centers = list()\n",
        "    for j in range(k):\n",
        "        x = list(cluster_mem_val[j])\n",
        "        xraised = [e ** m for e in x]\n",
        "        denominator = sum(xraised)\n",
        "        temp_num = list()\n",
        "        for i in range(n):\n",
        "            data_point = list(df.iloc[i])\n",
        "            prod = [xraised[i] * val for val in data_point]\n",
        "            temp_num.append(prod)\n",
        "        numerator = map(sum, zip(*temp_num))\n",
        "        center = [z/denominator for z in numerator]\n",
        "        cluster_centers.append(center)\n",
        "    return cluster_centers\n",
        "\n",
        "def updateMembershipValue(membership_mat, cluster_centers):\n",
        "    p = float(2/(m-1))\n",
        "    for i in range(n):\n",
        "        x = list(df.iloc[i])\n",
        "        distances = [np.linalg.norm(list(map(operator.sub, x, cluster_centers[j]))) for j in range(k)]\n",
        "        for j in range(k):\n",
        "            den = sum([math.pow(float(distances[j]/distances[c]), p) for c in range(k)])\n",
        "            membership_mat[i][j] = float(1/den)       \n",
        "    return membership_mat\n",
        "\n",
        "def getClusters(membership_mat):\n",
        "    cluster_labels = list()\n",
        "    for i in range(n):\n",
        "        max_val, idx = max((val, idx) for (idx, val) in enumerate(membership_mat[i]))\n",
        "        cluster_labels.append(idx)\n",
        "    return cluster_labels\n",
        "\n",
        "def fuzzyCMeansClustering():\n",
        "    membership_mat = initializeMembershipMatrix()\n",
        "    curr = 0\n",
        "    while curr <= MAX_ITER:\n",
        "        cluster_centers = calculateClusterCenter(membership_mat)\n",
        "        membership_mat = updateMembershipValue(membership_mat, cluster_centers)\n",
        "        cluster_labels = getClusters(membership_mat)\n",
        "        curr += 1\n",
        "    #print(membership_mat)\n",
        "    return cluster_labels, cluster_centers\n",
        "labels, centers = fuzzyCMeansClustering()"
      ],
      "execution_count": 0,
      "outputs": []
    },
    {
      "metadata": {
        "id": "tRptFRAkSG2n",
        "colab_type": "code",
        "colab": {
          "base_uri": "https://localhost:8080/",
          "height": 35
        },
        "outputId": "2c4f507c-319e-40d2-bfed-845963b84f47"
      },
      "cell_type": "code",
      "source": [
        "df_full.loc[df_full['Species']=='Iris-setosa','actual_label'] =0\n",
        "df_full.loc[df_full['Species']=='Iris-versicolor','actual_label'] =2\n",
        "df_full.loc[df_full['Species']=='Iris-virginica','actual_label'] =1\n",
        "\n",
        "from sklearn.metrics import accuracy_score\n",
        "print('accuracy is of User Define Function :',end='')\n",
        "print(accuracy_score(df_full[['actual_label']], labels))"
      ],
      "execution_count": 22,
      "outputs": [
        {
          "output_type": "stream",
          "text": [
            "accuracy is of User Define Function :0.9866666666666667\n"
          ],
          "name": "stdout"
        }
      ]
    },
    {
      "metadata": {
        "id": "nKPJjBAsSKtJ",
        "colab_type": "code",
        "colab": {}
      },
      "cell_type": "code",
      "source": [
        ""
      ],
      "execution_count": 0,
      "outputs": []
    }
  ]
}