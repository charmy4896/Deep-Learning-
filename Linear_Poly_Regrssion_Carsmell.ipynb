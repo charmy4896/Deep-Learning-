{
  "nbformat": 4,
  "nbformat_minor": 0,
  "metadata": {
    "colab": {
      "name": "Linear Poly.ipynb",
      "version": "0.3.2",
      "provenance": []
    },
    "kernelspec": {
      "name": "python3",
      "display_name": "Python 3"
    }
  },
  "cells": [
    {
      "metadata": {
        "id": "J9nIo-Y2HJsO",
        "colab_type": "code",
        "colab": {}
      },
      "cell_type": "code",
      "source": [
        "from pydrive.auth import GoogleAuth\n",
        "from pydrive.drive import GoogleDrive\n",
        "from google.colab import auth\n",
        "from oauth2client.client import GoogleCredentials\n",
        "\n",
        "from matplotlib import pyplot as plt\n",
        "import pandas as pd\n",
        "from copy import deepcopy\n",
        "import numpy as np\n",
        "\n",
        "def GoogleDriveAuth(ID):\n",
        "    auth.authenticate_user()\n",
        "    gauth = GoogleAuth()\n",
        "    gauth.credentials = GoogleCredentials.get_application_default()\n",
        "    drive = GoogleDrive(gauth)\n",
        "    file = drive.CreateFile({'id': ID})\n",
        "    return file\n",
        "\n",
        "File_ID = '1NjJ29PifME314xvYeh71vHOPQisbpKfi'\n",
        "file_name = GoogleDriveAuth(File_ID)\n",
        "file_name.GetContentFile('data_carsmall.xlsx')\n",
        "data = pd.read_excel('data_carsmall.xlsx',delimiter=\",\")\n",
        "data = pd.DataFrame(data)"
      ],
      "execution_count": 0,
      "outputs": []
    },
    {
      "metadata": {
        "id": "dBCeRQxBHnmv",
        "colab_type": "code",
        "colab": {}
      },
      "cell_type": "code",
      "source": [
        "#data cleaning\n",
        "data=data.drop(0) # removing first row\n",
        "test=data[data['y'].isnull()]   #finding y values as Nan\n",
        "train = (data.dropna(subset=['y'])).fillna(0)   # filling x values of Nan as 0\n",
        "\n",
        "Y_train=train.iloc[:,-1]\n",
        "Y_test=test.iloc[:,-1]\n",
        "X_train=train.iloc[:, :-1]\n",
        "X_test=test.iloc[:, :-1]"
      ],
      "execution_count": 0,
      "outputs": []
    },
    {
      "metadata": {
        "colab_type": "text",
        "id": "P_1TBQR2dvhY"
      },
      "cell_type": "markdown",
      "source": [
        "# LINEAR"
      ]
    },
    {
      "metadata": {
        "id": "211GQV1GQQCP",
        "colab_type": "code",
        "colab": {}
      },
      "cell_type": "code",
      "source": [
        "X_test=(X_test-np.mean(X_train))/np.std(X_train)\n",
        "X_train=(X_train-np.mean(X_train))/np.std(X_train)\n",
        "X_train.insert(0,'xo',1)\n",
        "X_test.insert(0,'xo',1)"
      ],
      "execution_count": 0,
      "outputs": []
    },
    {
      "metadata": {
        "id": "TmTJfYmaMxw8",
        "colab_type": "code",
        "outputId": "2152d172-ea4f-4ae5-e465-56b7a2483052",
        "colab": {
          "base_uri": "https://localhost:8080/",
          "height": 256
        }
      },
      "cell_type": "code",
      "source": [
        "alpha=0.025\n",
        "theta=[0 for i in range(X_train.shape[1])]\n",
        "for i in range(1000):\n",
        "  h_theta=np.dot(X_train,theta)\n",
        "  sub=h_theta-Y_train\n",
        "  theta-=np.dot(np.transpose(sub),X_train)*(alpha/X_train.shape[0])\n",
        "print(theta)\n",
        "\n",
        "Y_predicted=np.dot(X_test,theta)\n",
        "test=test.drop(['y'],axis=1)\n",
        "test[\"y_Predicted\"]=Y_predicted\n",
        "test"
      ],
      "execution_count": 62,
      "outputs": [
        {
          "output_type": "stream",
          "text": [
            "[23.71808511 -0.35704782 -2.87910192  0.75253701 -1.25632437 -4.0815295 ]\n"
          ],
          "name": "stdout"
        },
        {
          "output_type": "execute_result",
          "data": {
            "text/html": [
              "<div>\n",
              "<style scoped>\n",
              "    .dataframe tbody tr th:only-of-type {\n",
              "        vertical-align: middle;\n",
              "    }\n",
              "\n",
              "    .dataframe tbody tr th {\n",
              "        vertical-align: top;\n",
              "    }\n",
              "\n",
              "    .dataframe thead th {\n",
              "        text-align: right;\n",
              "    }\n",
              "</style>\n",
              "<table border=\"1\" class=\"dataframe\">\n",
              "  <thead>\n",
              "    <tr style=\"text-align: right;\">\n",
              "      <th></th>\n",
              "      <th>x1</th>\n",
              "      <th>x2</th>\n",
              "      <th>x3</th>\n",
              "      <th>x4</th>\n",
              "      <th>x5</th>\n",
              "      <th>y_Predicted</th>\n",
              "    </tr>\n",
              "  </thead>\n",
              "  <tbody>\n",
              "    <tr>\n",
              "      <th>11</th>\n",
              "      <td>17.5</td>\n",
              "      <td>4</td>\n",
              "      <td>133</td>\n",
              "      <td>115</td>\n",
              "      <td>3090</td>\n",
              "      <td>24.6642</td>\n",
              "    </tr>\n",
              "    <tr>\n",
              "      <th>12</th>\n",
              "      <td>11.5</td>\n",
              "      <td>8</td>\n",
              "      <td>350</td>\n",
              "      <td>165</td>\n",
              "      <td>4142</td>\n",
              "      <td>13.4688</td>\n",
              "    </tr>\n",
              "    <tr>\n",
              "      <th>13</th>\n",
              "      <td>11</td>\n",
              "      <td>8</td>\n",
              "      <td>351</td>\n",
              "      <td>153</td>\n",
              "      <td>4034</td>\n",
              "      <td>14.4096</td>\n",
              "    </tr>\n",
              "    <tr>\n",
              "      <th>14</th>\n",
              "      <td>10.5</td>\n",
              "      <td>8</td>\n",
              "      <td>383</td>\n",
              "      <td>175</td>\n",
              "      <td>4166</td>\n",
              "      <td>13.4118</td>\n",
              "    </tr>\n",
              "    <tr>\n",
              "      <th>15</th>\n",
              "      <td>11</td>\n",
              "      <td>8</td>\n",
              "      <td>360</td>\n",
              "      <td>175</td>\n",
              "      <td>3850</td>\n",
              "      <td>14.8158</td>\n",
              "    </tr>\n",
              "    <tr>\n",
              "      <th>18</th>\n",
              "      <td>8</td>\n",
              "      <td>8</td>\n",
              "      <td>302</td>\n",
              "      <td>140</td>\n",
              "      <td>3353</td>\n",
              "      <td>18.2422</td>\n",
              "    </tr>\n",
              "  </tbody>\n",
              "</table>\n",
              "</div>"
            ],
            "text/plain": [
              "      x1 x2   x3   x4    x5 y_Predicted\n",
              "11  17.5  4  133  115  3090     24.6642\n",
              "12  11.5  8  350  165  4142     13.4688\n",
              "13    11  8  351  153  4034     14.4096\n",
              "14  10.5  8  383  175  4166     13.4118\n",
              "15    11  8  360  175  3850     14.8158\n",
              "18     8  8  302  140  3353     18.2422"
            ]
          },
          "metadata": {
            "tags": []
          },
          "execution_count": 62
        }
      ]
    },
    {
      "metadata": {
        "id": "cEmX6w_T2MhC",
        "colab_type": "text"
      },
      "cell_type": "markdown",
      "source": [
        "# poly"
      ]
    },
    {
      "metadata": {
        "id": "DKbubuPYeCPY",
        "colab_type": "code",
        "colab": {}
      },
      "cell_type": "code",
      "source": [
        "col=X_train.shape[1]\n",
        "for i in range (col):\n",
        "  for j in range (i,col):\n",
        "    X_train[i+1,j+1]=X_train.iloc[:,i]*X_train.iloc[:,j]\n",
        "\n",
        "    \n",
        "col=X_test.shape[1]\n",
        "for i in range (col):\n",
        "  for j in range (i,col):\n",
        "    X_test[i+1,j+1]=X_test.iloc[:,i]*X_test.iloc[:,j]\n",
        "  \n",
        "  "
      ],
      "execution_count": 0,
      "outputs": []
    },
    {
      "metadata": {
        "id": "w8JDys5fohaK",
        "colab_type": "code",
        "colab": {}
      },
      "cell_type": "code",
      "source": [
        "#normalise\n",
        "X_test=(X_test-np.mean(X_train))/np.std(X_train)\n",
        "X_train=(X_train-np.mean(X_train))/np.std(X_train)\n",
        "X_train.insert(0,0,1)\n",
        "X_test.insert(0,0,1)"
      ],
      "execution_count": 0,
      "outputs": []
    },
    {
      "metadata": {
        "id": "dQZ-OBU-qzXY",
        "colab_type": "code",
        "colab": {
          "base_uri": "https://localhost:8080/",
          "height": 311
        },
        "outputId": "abd66ac9-c887-446e-88b2-459a38ab7614"
      },
      "cell_type": "code",
      "source": [
        "alpha=0.025\n",
        "theta=[0 for i in range(X_train.shape[1])]\n",
        "for i in range(1000):\n",
        "  h_theta=np.dot(X_train,theta)\n",
        "  sub=h_theta-Y_train\n",
        "  theta-=np.dot(np.transpose(sub),X_train)*(alpha/X_train.shape[0])\n",
        "print(theta)\n",
        "\n",
        "Y_predicted=np.dot(X_test,np.transpose(theta))\n",
        "test=test.drop(['y'],axis=1)\n",
        "test[\"y_Predicted\"]=Y_predicted\n",
        "test"
      ],
      "execution_count": 73,
      "outputs": [
        {
          "output_type": "stream",
          "text": [
            "[23.71808511  0.83701837 -1.70888304 -0.64049347 -1.38077769 -2.03352889\n",
            "  0.75495268 -0.06845213  0.59895553  0.04538744 -2.7738491  -1.27792008\n",
            " -0.38808753 -0.58426095  0.12419778  0.24232673  0.23369938  1.21390897\n",
            " -0.62602274  0.97245844  0.25337905]\n"
          ],
          "name": "stdout"
        },
        {
          "output_type": "execute_result",
          "data": {
            "text/html": [
              "<div>\n",
              "<style scoped>\n",
              "    .dataframe tbody tr th:only-of-type {\n",
              "        vertical-align: middle;\n",
              "    }\n",
              "\n",
              "    .dataframe tbody tr th {\n",
              "        vertical-align: top;\n",
              "    }\n",
              "\n",
              "    .dataframe thead th {\n",
              "        text-align: right;\n",
              "    }\n",
              "</style>\n",
              "<table border=\"1\" class=\"dataframe\">\n",
              "  <thead>\n",
              "    <tr style=\"text-align: right;\">\n",
              "      <th></th>\n",
              "      <th>x1</th>\n",
              "      <th>x2</th>\n",
              "      <th>x3</th>\n",
              "      <th>x4</th>\n",
              "      <th>x5</th>\n",
              "      <th>y_Predicted</th>\n",
              "    </tr>\n",
              "  </thead>\n",
              "  <tbody>\n",
              "    <tr>\n",
              "      <th>11</th>\n",
              "      <td>17.5</td>\n",
              "      <td>4</td>\n",
              "      <td>133</td>\n",
              "      <td>115</td>\n",
              "      <td>3090</td>\n",
              "      <td>24.2708</td>\n",
              "    </tr>\n",
              "    <tr>\n",
              "      <th>12</th>\n",
              "      <td>11.5</td>\n",
              "      <td>8</td>\n",
              "      <td>350</td>\n",
              "      <td>165</td>\n",
              "      <td>4142</td>\n",
              "      <td>14.0824</td>\n",
              "    </tr>\n",
              "    <tr>\n",
              "      <th>13</th>\n",
              "      <td>11</td>\n",
              "      <td>8</td>\n",
              "      <td>351</td>\n",
              "      <td>153</td>\n",
              "      <td>4034</td>\n",
              "      <td>15.053</td>\n",
              "    </tr>\n",
              "    <tr>\n",
              "      <th>14</th>\n",
              "      <td>10.5</td>\n",
              "      <td>8</td>\n",
              "      <td>383</td>\n",
              "      <td>175</td>\n",
              "      <td>4166</td>\n",
              "      <td>14.4152</td>\n",
              "    </tr>\n",
              "    <tr>\n",
              "      <th>15</th>\n",
              "      <td>11</td>\n",
              "      <td>8</td>\n",
              "      <td>360</td>\n",
              "      <td>175</td>\n",
              "      <td>3850</td>\n",
              "      <td>14.9428</td>\n",
              "    </tr>\n",
              "    <tr>\n",
              "      <th>18</th>\n",
              "      <td>8</td>\n",
              "      <td>8</td>\n",
              "      <td>302</td>\n",
              "      <td>140</td>\n",
              "      <td>3353</td>\n",
              "      <td>18.0713</td>\n",
              "    </tr>\n",
              "  </tbody>\n",
              "</table>\n",
              "</div>"
            ],
            "text/plain": [
              "      x1 x2   x3   x4    x5 y_Predicted\n",
              "11  17.5  4  133  115  3090     24.2708\n",
              "12  11.5  8  350  165  4142     14.0824\n",
              "13    11  8  351  153  4034      15.053\n",
              "14  10.5  8  383  175  4166     14.4152\n",
              "15    11  8  360  175  3850     14.9428\n",
              "18     8  8  302  140  3353     18.0713"
            ]
          },
          "metadata": {
            "tags": []
          },
          "execution_count": 73
        }
      ]
    },
    {
      "metadata": {
        "id": "T2-_N1fT3Rk6",
        "colab_type": "code",
        "colab": {}
      },
      "cell_type": "code",
      "source": [
        ""
      ],
      "execution_count": 0,
      "outputs": []
    }
  ]
}