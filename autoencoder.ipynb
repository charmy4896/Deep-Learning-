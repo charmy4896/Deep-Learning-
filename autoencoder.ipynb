{
  "nbformat": 4,
  "nbformat_minor": 0,
  "metadata": {
    "colab": {
      "name": "AUTOENCODER.ipynb",
      "version": "0.3.2",
      "provenance": []
    },
    "kernelspec": {
      "name": "python3",
      "display_name": "Python 3"
    },
    "accelerator": "GPU"
  },
  "cells": [
    {
      "metadata": {
        "id": "5yfH-kdRxyxa",
        "colab_type": "code",
        "outputId": "c83c15f2-49dc-4b03-cda3-80a60a9b7d9d",
        "colab": {
          "base_uri": "https://localhost:8080/",
          "height": 221
        }
      },
      "cell_type": "code",
      "source": [
        "!pip install pydrive\n",
        "from pydrive.auth import GoogleAuth\n",
        "from pydrive.drive import GoogleDrive\n",
        "from google.colab import auth\n",
        "from oauth2client.client import GoogleCredentials\n",
        "\n",
        "from matplotlib import pyplot as plt\n",
        "import pandas as pd\n",
        "from copy import deepcopy\n",
        "import numpy as np\n",
        "\n",
        "def GoogleDriveAuth(ID):\n",
        "    auth.authenticate_user()\n",
        "    gauth = GoogleAuth()\n",
        "    gauth.credentials = GoogleCredentials.get_application_default()\n",
        "    drive = GoogleDrive(gauth)\n",
        "    file = drive.CreateFile({'id': ID})\n",
        "    return file\n",
        "  \n",
        " #MNIST \n",
        "File_ID = '1EinH3Q28iwbM9SUceTEiTxz-_KkJXmIh'\n",
        "file_name = GoogleDriveAuth(File_ID)\n",
        "file_name.GetContentFile('mnist_train.csv')\n",
        "train_data = pd.read_csv('mnist_train.csv',delimiter=\",\",header=None)\n",
        "train_data = pd.DataFrame(train_data).as_matrix()\n",
        "\n",
        "\n",
        "File_ID = '1HT80t8kyEn9Fvp80OPfpVb1PlsfN5a6o'\n",
        "file_name = GoogleDriveAuth(File_ID)\n",
        "file_name.GetContentFile('mnist_test.csv')\n",
        "test_data = pd.read_csv('mnist_test.csv',delimiter=\",\",header=None)\n",
        "test_data = pd.DataFrame(test_data).as_matrix()\n"
      ],
      "execution_count": 16,
      "outputs": [
        {
          "output_type": "stream",
          "text": [
            "Requirement already satisfied: pydrive in /usr/local/lib/python3.6/dist-packages (1.3.1)\n",
            "Requirement already satisfied: PyYAML>=3.0 in /usr/local/lib/python3.6/dist-packages (from pydrive) (3.13)\n",
            "Requirement already satisfied: google-api-python-client>=1.2 in /usr/local/lib/python3.6/dist-packages (from pydrive) (1.6.7)\n",
            "Requirement already satisfied: oauth2client>=4.0.0 in /usr/local/lib/python3.6/dist-packages (from pydrive) (4.1.3)\n",
            "Requirement already satisfied: six<2dev,>=1.6.1 in /usr/local/lib/python3.6/dist-packages (from google-api-python-client>=1.2->pydrive) (1.11.0)\n",
            "Requirement already satisfied: httplib2<1dev,>=0.9.2 in /usr/local/lib/python3.6/dist-packages (from google-api-python-client>=1.2->pydrive) (0.11.3)\n",
            "Requirement already satisfied: uritemplate<4dev,>=3.0.0 in /usr/local/lib/python3.6/dist-packages (from google-api-python-client>=1.2->pydrive) (3.0.0)\n",
            "Requirement already satisfied: pyasn1-modules>=0.0.5 in /usr/local/lib/python3.6/dist-packages (from oauth2client>=4.0.0->pydrive) (0.2.4)\n",
            "Requirement already satisfied: rsa>=3.1.4 in /usr/local/lib/python3.6/dist-packages (from oauth2client>=4.0.0->pydrive) (4.0)\n",
            "Requirement already satisfied: pyasn1>=0.1.7 in /usr/local/lib/python3.6/dist-packages (from oauth2client>=4.0.0->pydrive) (0.4.5)\n"
          ],
          "name": "stdout"
        },
        {
          "output_type": "stream",
          "text": [
            "/usr/local/lib/python3.6/dist-packages/ipykernel_launcher.py:25: FutureWarning: Method .as_matrix will be removed in a future version. Use .values instead.\n",
            "/usr/local/lib/python3.6/dist-packages/ipykernel_launcher.py:32: FutureWarning: Method .as_matrix will be removed in a future version. Use .values instead.\n"
          ],
          "name": "stderr"
        }
      ]
    },
    {
      "metadata": {
        "id": "JvSjY6dD3nDP",
        "colab_type": "code",
        "colab": {}
      },
      "cell_type": "code",
      "source": [
        "from IPython.display import Image, SVG\n",
        "import matplotlib.pyplot as plt\n",
        "\n",
        "%matplotlib inline\n",
        "\n",
        "import numpy as np\n",
        "import keras\n",
        "from keras.datasets import mnist\n",
        "from keras.models import Model, Sequential\n",
        "from keras.layers import Input, Dense, Conv2D, MaxPooling2D, UpSampling2D, Flatten, Reshape\n",
        "from keras import regularizers"
      ],
      "execution_count": 0,
      "outputs": []
    },
    {
      "metadata": {
        "id": "V-ngX8U_yqsU",
        "colab_type": "code",
        "colab": {}
      },
      "cell_type": "code",
      "source": [
        "#normalize the data\n",
        "norm = 255\n",
        "train_imgs = np.asfarray(train_data[:,1:]) / norm  #train input\n",
        "test_imgs = np.asfarray(test_data[:, 1:]) / norm  #test input\n",
        "train_labels = np.asfarray(train_data[:, :1])  #train output\n",
        "test_labels = np.asfarray(test_data[:, :1])  #test output"
      ],
      "execution_count": 0,
      "outputs": []
    },
    {
      "metadata": {
        "id": "76rWsENmy9YW",
        "colab_type": "code",
        "colab": {}
      },
      "cell_type": "code",
      "source": [
        "image_size = 28 # width and length\n",
        "image_pixels = image_size * image_size\n",
        "encoding_output = 10"
      ],
      "execution_count": 0,
      "outputs": []
    },
    {
      "metadata": {
        "id": "2oxwpVLSzae-",
        "colab_type": "code",
        "outputId": "3d36f1f1-0fcb-458c-815e-1463feda5376",
        "colab": {
          "base_uri": "https://localhost:8080/",
          "height": 408
        }
      },
      "cell_type": "code",
      "source": [
        "autoencoder = Sequential()\n",
        "autoencoder.add(Dense(500, input_shape=(image_pixels,), activation='relu'))\n",
        "autoencoder.add(Dense(250, input_shape=(500,), activation='relu'))\n",
        "autoencoder.add(Dense(100, input_shape=(250,), activation='relu'))\n",
        "autoencoder.add(Dense(encoding_output, input_shape=(100,), activation='relu'))\n",
        "autoencoder.add(Dense(100, input_shape=(encoding_output,), activation='sigmoid'))\n",
        "autoencoder.add(Dense(250, input_shape=(100,), activation='sigmoid'))\n",
        "autoencoder.add(Dense(500, input_shape=(250,), activation='sigmoid'))\n",
        "autoencoder.add(Dense(image_pixels, input_shape=(500,), activation='sigmoid'))\n",
        "autoencoder.summary()"
      ],
      "execution_count": 20,
      "outputs": [
        {
          "output_type": "stream",
          "text": [
            "_________________________________________________________________\n",
            "Layer (type)                 Output Shape              Param #   \n",
            "=================================================================\n",
            "dense_17 (Dense)             (None, 500)               392500    \n",
            "_________________________________________________________________\n",
            "dense_18 (Dense)             (None, 250)               125250    \n",
            "_________________________________________________________________\n",
            "dense_19 (Dense)             (None, 100)               25100     \n",
            "_________________________________________________________________\n",
            "dense_20 (Dense)             (None, 10)                1010      \n",
            "_________________________________________________________________\n",
            "dense_21 (Dense)             (None, 100)               1100      \n",
            "_________________________________________________________________\n",
            "dense_22 (Dense)             (None, 250)               25250     \n",
            "_________________________________________________________________\n",
            "dense_23 (Dense)             (None, 500)               125500    \n",
            "_________________________________________________________________\n",
            "dense_24 (Dense)             (None, 784)               392784    \n",
            "=================================================================\n",
            "Total params: 1,088,494\n",
            "Trainable params: 1,088,494\n",
            "Non-trainable params: 0\n",
            "_________________________________________________________________\n"
          ],
          "name": "stdout"
        }
      ]
    },
    {
      "metadata": {
        "id": "3F9LNDSC3jF9",
        "colab_type": "code",
        "outputId": "fceb1eca-a294-470f-e55c-69a0d92f34dd",
        "colab": {
          "base_uri": "https://localhost:8080/",
          "height": 272
        }
      },
      "cell_type": "code",
      "source": [
        "encoder = Sequential()\n",
        "encoder.add(autoencoder.layers[0])\n",
        "encoder.add(autoencoder.layers[1])\n",
        "encoder.add(autoencoder.layers[2])\n",
        "encoder.add(autoencoder.layers[3])\n",
        "encoder.summary()"
      ],
      "execution_count": 21,
      "outputs": [
        {
          "output_type": "stream",
          "text": [
            "_________________________________________________________________\n",
            "Layer (type)                 Output Shape              Param #   \n",
            "=================================================================\n",
            "dense_17 (Dense)             (None, 500)               392500    \n",
            "_________________________________________________________________\n",
            "dense_18 (Dense)             (None, 250)               125250    \n",
            "_________________________________________________________________\n",
            "dense_19 (Dense)             (None, 100)               25100     \n",
            "_________________________________________________________________\n",
            "dense_20 (Dense)             (None, 10)                1010      \n",
            "=================================================================\n",
            "Total params: 543,860\n",
            "Trainable params: 543,860\n",
            "Non-trainable params: 0\n",
            "_________________________________________________________________\n"
          ],
          "name": "stdout"
        }
      ]
    },
    {
      "metadata": {
        "id": "7nywN0MaARHl",
        "colab_type": "code",
        "colab": {
          "base_uri": "https://localhost:8080/",
          "height": 1751
        },
        "outputId": "542b6568-70bc-43bc-f6df-27c6a80b1f27"
      },
      "cell_type": "code",
      "source": [
        "autoencoder.compile(optimizer='adam', loss='binary_crossentropy')\n",
        "autoencoder.fit(train_imgs,train_imgs,epochs=50,batch_size=256,shuffle=True,validation_data=(test_imgs, test_imgs))\n"
      ],
      "execution_count": 22,
      "outputs": [
        {
          "output_type": "stream",
          "text": [
            "Train on 60000 samples, validate on 10000 samples\n",
            "Epoch 1/50\n",
            "60000/60000 [==============================] - 8s 138us/step - loss: 0.2617 - val_loss: 0.2391\n",
            "Epoch 2/50\n",
            "60000/60000 [==============================] - 7s 117us/step - loss: 0.2314 - val_loss: 0.2181\n",
            "Epoch 3/50\n",
            "60000/60000 [==============================] - 7s 118us/step - loss: 0.2059 - val_loss: 0.1953\n",
            "Epoch 4/50\n",
            "60000/60000 [==============================] - 7s 115us/step - loss: 0.1902 - val_loss: 0.1852\n",
            "Epoch 5/50\n",
            "60000/60000 [==============================] - 7s 115us/step - loss: 0.1803 - val_loss: 0.1736\n",
            "Epoch 6/50\n",
            "60000/60000 [==============================] - 7s 115us/step - loss: 0.1683 - val_loss: 0.1624\n",
            "Epoch 7/50\n",
            "60000/60000 [==============================] - 7s 120us/step - loss: 0.1584 - val_loss: 0.1543\n",
            "Epoch 8/50\n",
            "60000/60000 [==============================] - 8s 128us/step - loss: 0.1522 - val_loss: 0.1493\n",
            "Epoch 9/50\n",
            "60000/60000 [==============================] - 8s 128us/step - loss: 0.1476 - val_loss: 0.1453\n",
            "Epoch 10/50\n",
            "60000/60000 [==============================] - 8s 128us/step - loss: 0.1426 - val_loss: 0.1391\n",
            "Epoch 11/50\n",
            "60000/60000 [==============================] - 8s 128us/step - loss: 0.1376 - val_loss: 0.1351\n",
            "Epoch 12/50\n",
            "60000/60000 [==============================] - 8s 130us/step - loss: 0.1340 - val_loss: 0.1322\n",
            "Epoch 13/50\n",
            "60000/60000 [==============================] - 8s 128us/step - loss: 0.1310 - val_loss: 0.1294\n",
            "Epoch 14/50\n",
            "60000/60000 [==============================] - 8s 129us/step - loss: 0.1283 - val_loss: 0.1268\n",
            "Epoch 15/50\n",
            "60000/60000 [==============================] - 8s 130us/step - loss: 0.1257 - val_loss: 0.1243\n",
            "Epoch 16/50\n",
            "60000/60000 [==============================] - 8s 128us/step - loss: 0.1235 - val_loss: 0.1221\n",
            "Epoch 17/50\n",
            "60000/60000 [==============================] - 8s 126us/step - loss: 0.1215 - val_loss: 0.1204\n",
            "Epoch 18/50\n",
            "60000/60000 [==============================] - 7s 122us/step - loss: 0.1197 - val_loss: 0.1185\n",
            "Epoch 19/50\n",
            "60000/60000 [==============================] - 7s 120us/step - loss: 0.1181 - val_loss: 0.1174\n",
            "Epoch 20/50\n",
            "60000/60000 [==============================] - 8s 128us/step - loss: 0.1166 - val_loss: 0.1162\n",
            "Epoch 21/50\n",
            "60000/60000 [==============================] - 7s 121us/step - loss: 0.1153 - val_loss: 0.1147\n",
            "Epoch 22/50\n",
            "60000/60000 [==============================] - 7s 120us/step - loss: 0.1139 - val_loss: 0.1135\n",
            "Epoch 23/50\n",
            "60000/60000 [==============================] - 7s 115us/step - loss: 0.1128 - val_loss: 0.1125\n",
            "Epoch 24/50\n",
            "60000/60000 [==============================] - 7s 120us/step - loss: 0.1117 - val_loss: 0.1115\n",
            "Epoch 25/50\n",
            "60000/60000 [==============================] - 7s 124us/step - loss: 0.1107 - val_loss: 0.1109\n",
            "Epoch 26/50\n",
            "60000/60000 [==============================] - 7s 120us/step - loss: 0.1098 - val_loss: 0.1100\n",
            "Epoch 27/50\n",
            "60000/60000 [==============================] - 7s 123us/step - loss: 0.1090 - val_loss: 0.1094\n",
            "Epoch 28/50\n",
            "60000/60000 [==============================] - 7s 120us/step - loss: 0.1083 - val_loss: 0.1089\n",
            "Epoch 29/50\n",
            "60000/60000 [==============================] - 7s 119us/step - loss: 0.1076 - val_loss: 0.1080\n",
            "Epoch 30/50\n",
            "60000/60000 [==============================] - 7s 118us/step - loss: 0.1069 - val_loss: 0.1079\n",
            "Epoch 31/50\n",
            "60000/60000 [==============================] - 7s 116us/step - loss: 0.1064 - val_loss: 0.1073\n",
            "Epoch 32/50\n",
            "60000/60000 [==============================] - 7s 116us/step - loss: 0.1057 - val_loss: 0.1067\n",
            "Epoch 33/50\n",
            "60000/60000 [==============================] - 7s 120us/step - loss: 0.1052 - val_loss: 0.1062\n",
            "Epoch 34/50\n",
            "60000/60000 [==============================] - 7s 120us/step - loss: 0.1046 - val_loss: 0.1057\n",
            "Epoch 35/50\n",
            "60000/60000 [==============================] - 8s 125us/step - loss: 0.1040 - val_loss: 0.1054\n",
            "Epoch 36/50\n",
            "60000/60000 [==============================] - 8s 125us/step - loss: 0.1034 - val_loss: 0.1046\n",
            "Epoch 37/50\n",
            "60000/60000 [==============================] - 8s 129us/step - loss: 0.1028 - val_loss: 0.1046\n",
            "Epoch 38/50\n",
            "60000/60000 [==============================] - 7s 124us/step - loss: 0.1023 - val_loss: 0.1036\n",
            "Epoch 39/50\n",
            "60000/60000 [==============================] - 8s 126us/step - loss: 0.1018 - val_loss: 0.1031\n",
            "Epoch 40/50\n",
            "60000/60000 [==============================] - 8s 126us/step - loss: 0.1013 - val_loss: 0.1028\n",
            "Epoch 41/50\n",
            "60000/60000 [==============================] - 8s 127us/step - loss: 0.1008 - val_loss: 0.1025\n",
            "Epoch 42/50\n",
            "60000/60000 [==============================] - 8s 131us/step - loss: 0.1004 - val_loss: 0.1023\n",
            "Epoch 43/50\n",
            "60000/60000 [==============================] - 8s 128us/step - loss: 0.1000 - val_loss: 0.1018\n",
            "Epoch 44/50\n",
            "60000/60000 [==============================] - 8s 128us/step - loss: 0.0996 - val_loss: 0.1015\n",
            "Epoch 45/50\n",
            "60000/60000 [==============================] - 8s 128us/step - loss: 0.0993 - val_loss: 0.1013\n",
            "Epoch 46/50\n",
            "60000/60000 [==============================] - 7s 118us/step - loss: 0.0989 - val_loss: 0.1008\n",
            "Epoch 47/50\n",
            "60000/60000 [==============================] - 7s 117us/step - loss: 0.0985 - val_loss: 0.1006\n",
            "Epoch 48/50\n",
            "60000/60000 [==============================] - 7s 117us/step - loss: 0.0983 - val_loss: 0.1004\n",
            "Epoch 49/50\n",
            "60000/60000 [==============================] - 7s 118us/step - loss: 0.0979 - val_loss: 0.1001\n",
            "Epoch 50/50\n",
            "60000/60000 [==============================] - 7s 118us/step - loss: 0.0976 - val_loss: 0.0999\n"
          ],
          "name": "stdout"
        },
        {
          "output_type": "execute_result",
          "data": {
            "text/plain": [
              "<keras.callbacks.History at 0x7f5dfbd35278>"
            ]
          },
          "metadata": {
            "tags": []
          },
          "execution_count": 22
        }
      ]
    },
    {
      "metadata": {
        "id": "IWKXhHHuA5cP",
        "colab_type": "code",
        "outputId": "6b255c63-9bbc-4e50-efff-933c51748625",
        "colab": {
          "base_uri": "https://localhost:8080/",
          "height": 376
        }
      },
      "cell_type": "code",
      "source": [
        "encoded_imgs = encoder.predict(test_imgs)\n",
        "decoded_imgs = autoencoder.predict(test_imgs)\n",
        "\n",
        "print('ORIGINAL IMAGE')\n",
        "plt.figure(figsize=(18, 4))\n",
        "for i in range(10):\n",
        "    # plot original image\n",
        "    ax = plt.subplot(1, 10,i+1)\n",
        "    plt.imshow(test_imgs[i].reshape(28, 28),cmap='plasma')\n",
        "plt.show()\n",
        "\n",
        "\n",
        "print('ENCODED IMAGE')\n",
        "plt.figure(figsize=(18, 4))\n",
        "for i in range(10):\n",
        "    # plot encoded image\n",
        "    ax = plt.subplot(1, 10,i + 1)\n",
        "    plt.imshow(encoded_imgs[i].reshape(2, 5),cmap='plasma')\n",
        "plt.show()\n",
        "\n",
        "\n",
        "print('DECODED IMAGE')\n",
        "plt.figure(figsize=(18, 4))\n",
        "for i in range(10):\n",
        "    # plot reconstructed image\n",
        "    ax = plt.subplot(1, 10,i + 1)\n",
        "    plt.imshow(decoded_imgs[i].reshape(28, 28),cmap='plasma')\n",
        "plt.show()"
      ],
      "execution_count": 23,
      "outputs": [
        {
          "output_type": "stream",
          "text": [
            "ORIGINAL IMAGE\n"
          ],
          "name": "stdout"
        },
        {
          "output_type": "display_data",
          "data": {
            "image/png": "[encoded data removed]",
            "text/plain": [
              "<Figure size 1296x288 with 10 Axes>"
            ]
          },
          "metadata": {
            "tags": []
          }
        },
        {
          "output_type": "stream",
          "text": [
            "ENCODED IMAGE\n"
          ],
          "name": "stdout"
        },
        {
          "output_type": "display_data",
          "data": {
            "image/png": "[encoded data removed]",
            "text/plain": [
              "<Figure size 1296x288 with 10 Axes>"
            ]
          },
          "metadata": {
            "tags": []
          }
        },
        {
          "output_type": "stream",
          "text": [
            "DECODED IMAGE\n"
          ],
          "name": "stdout"
        },
        {
          "output_type": "display_data",
          "data": {
            "image/png": "[encoded data removed]",
            "text/plain": [
              "<Figure size 1296x288 with 10 Axes>"
            ]
          },
          "metadata": {
            "tags": []
          }
        }
      ]
    },
    {
      "metadata": {
        "id": "d_HPWbkFnwcj",
        "colab_type": "text"
      },
      "cell_type": "markdown",
      "source": [
        "# LOGISTIC REGRESSION"
      ]
    },
    {
      "metadata": {
        "id": "0jc2gpBTWnC1",
        "colab_type": "code",
        "outputId": "a22c0a21-a74a-4e2f-e283-f1693a650afe",
        "colab": {
          "base_uri": "https://localhost:8080/",
          "height": 156
        }
      },
      "cell_type": "code",
      "source": [
        "from sklearn.linear_model import LogisticRegression\n",
        "clf = LogisticRegression(random_state=0, solver='lbfgs',multi_class='multinomial').fit(train_imgs, train_labels)\n",
        "print('PREDICTED OUTPUT:',clf.predict(decoded_imgs[:10]))\n",
        "print('ACTUAL OUTPUT:',*test_labels[:10])\n",
        "print('ACCURACY:',clf.score(decoded_imgs,test_labels))"
      ],
      "execution_count": 24,
      "outputs": [
        {
          "output_type": "stream",
          "text": [
            "/usr/local/lib/python3.6/dist-packages/sklearn/utils/validation.py:761: DataConversionWarning: A column-vector y was passed when a 1d array was expected. Please change the shape of y to (n_samples, ), for example using ravel().\n",
            "  y = column_or_1d(y, warn=True)\n"
          ],
          "name": "stderr"
        },
        {
          "output_type": "stream",
          "text": [
            "PREDICTED OUTPUT: [7. 2. 1. 0. 4. 1. 4. 9. 6. 9.]\n",
            "ACTUAL OUTPUT: [7.] [2.] [1.] [0.] [4.] [1.] [4.] [9.] [5.] [9.]\n",
            "ACCURACY: 0.9352\n"
          ],
          "name": "stdout"
        },
        {
          "output_type": "stream",
          "text": [
            "/usr/local/lib/python3.6/dist-packages/sklearn/linear_model/logistic.py:758: ConvergenceWarning: lbfgs failed to converge. Increase the number of iterations.\n",
            "  \"of iterations.\", ConvergenceWarning)\n"
          ],
          "name": "stderr"
        }
      ]
    },
    {
      "metadata": {
        "id": "qw69o6PBfBfK",
        "colab_type": "code",
        "colab": {}
      },
      "cell_type": "code",
      "source": [
        ""
      ],
      "execution_count": 0,
      "outputs": []
    }
  ]
}