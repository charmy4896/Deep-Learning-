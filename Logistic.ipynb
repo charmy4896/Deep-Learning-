{
  "nbformat": 4,
  "nbformat_minor": 0,
  "metadata": {
    "colab": {
      "name": "Logistic.ipynb",
      "version": "0.3.2",
      "provenance": [],
      "include_colab_link": true
    },
    "kernelspec": {
      "name": "python3",
      "display_name": "Python 3"
    },
    "accelerator": "GPU"
  },
  "cells": [
    {
      "cell_type": "markdown",
      "metadata": {
        "id": "view-in-github",
        "colab_type": "text"
      },
      "source": [
        "<a href=\"https://colab.research.google.com/github/charmy4896/Deep-Learning-/blob/master/Logistic.ipynb\" target=\"_parent\"><img src=\"https://colab.research.google.com/assets/colab-badge.svg\" alt=\"Open In Colab\"/></a>"
      ]
    },
    {
      "metadata": {
        "id": "zsyr5aXhE-Gj",
        "colab_type": "code",
        "colab": {}
      },
      "cell_type": "code",
      "source": [
        "from matplotlib import pyplot as plt\n",
        "import pandas as pd\n",
        "from copy import deepcopy\n",
        "import numpy as np\n",
        "\n",
        "data = pd.read_excel('ex2data1-logistic.xls',delimiter=\",\")\n",
        "data = pd.DataFrame(data)\n",
        "\n"
      ],
      "execution_count": 0,
      "outputs": []
    },
    {
      "metadata": {
        "id": "WL1ux6iRmozd",
        "colab_type": "code",
        "colab": {}
      },
      "cell_type": "code",
      "source": [
        "def sigmoid(x):\n",
        "  return (1/(1 + np.exp(-x)))"
      ],
      "execution_count": 0,
      "outputs": []
    },
    {
      "metadata": {
        "id": "bbVaoYQW4Xzo",
        "colab_type": "code",
        "colab": {}
      },
      "cell_type": "code",
      "source": [
        "X=data.iloc[:,:-1]\n",
        "Y=data.iloc[:,-1]\n",
        "\n",
        "X_train=X[0:int(0.8*X.shape[0])]\n",
        "Y_train=Y[0:int(0.8*Y.shape[0])]\n",
        "X_test=X[int(0.8*X.shape[0]):X.shape[0]]\n",
        "Y_test=Y[int(0.8*Y.shape[0]):Y.shape[0]]\n",
        "\n",
        "X_test=(X_test-np.mean(X_train))/np.std(X_train)\n",
        "X_train=(X_train-np.mean(X_train))/np.std(X_train)\n",
        "X_train.insert(0,'x0',1)\n",
        "X_test.insert(0,'x0',1)\n"
      ],
      "execution_count": 0,
      "outputs": []
    },
    {
      "metadata": {
        "id": "oWfH0DWZJcqr",
        "colab_type": "code",
        "outputId": "2a2bc9d1-f840-47d7-e7ec-2bc9bb504d75",
        "colab": {
          "base_uri": "https://localhost:8080/",
          "height": 35
        }
      },
      "cell_type": "code",
      "source": [
        "theta=[0 for i in range(3)]\n",
        "alpha=0.03\n",
        "for i in range(1000):\n",
        "  h_theta=sigmoid(np.dot(X_train,np.transpose(theta)))\n",
        "  sub=h_theta-Y_train\n",
        "  theta=theta-(np.dot(np.transpose(sub),X_train))*(alpha/X_train.shape[0])  \n",
        "print(theta)"
      ],
      "execution_count": 73,
      "outputs": [
        {
          "output_type": "stream",
          "text": [
            "[0.34017806 2.14633617 2.0035281 ]\n"
          ],
          "name": "stdout"
        }
      ]
    },
    {
      "metadata": {
        "id": "hJX1_9wHcIhj",
        "colab_type": "code",
        "outputId": "3f92e096-ca66-407f-83b9-0055099aea0e",
        "colab": {
          "base_uri": "https://localhost:8080/",
          "height": 72
        }
      },
      "cell_type": "code",
      "source": [
        "pr=sigmoid(np.dot(X_test,theta))\n",
        "c=[]\n",
        "for i in pr:\n",
        "  if(i>0.5):\n",
        "    c.append(1)\n",
        "  else:\n",
        "    c.append(0)\n",
        "print(c)\n",
        "print(*Y_test)\n",
        "\n",
        "correct = (c == Y_test)\n",
        "accuracy = correct.sum() / correct.size\n",
        "accuracy"
      ],
      "execution_count": 74,
      "outputs": [
        {
          "output_type": "stream",
          "text": [
            "[1, 1, 1, 0, 1, 1, 0, 1, 1, 0, 1, 1, 0, 1, 1, 1, 1, 1, 0, 1]\n",
            "1 1 1 1 1 1 0 1 1 0 1 1 0 1 1 1 1 1 1 1\n"
          ],
          "name": "stdout"
        },
        {
          "output_type": "execute_result",
          "data": {
            "text/plain": [
              "0.9"
            ]
          },
          "metadata": {
            "tags": []
          },
          "execution_count": 74
        }
      ]
    },
    {
      "metadata": {
        "id": "0P8aRBcBC1AE",
        "colab_type": "text"
      },
      "cell_type": "markdown",
      "source": [
        "# DATA-2"
      ]
    },
    {
      "metadata": {
        "id": "p7gLoUFBcX_j",
        "colab_type": "code",
        "colab": {}
      },
      "cell_type": "code",
      "source": [
        "from sklearn.utils import shuffle\n",
        "data = pd.read_excel('ex2data2-logistic.xls',delimiter=\",\")\n",
        "data = pd.DataFrame(data)\n",
        "data=shuffle(data)"
      ],
      "execution_count": 0,
      "outputs": []
    },
    {
      "metadata": {
        "id": "1iZtO-cBC9rM",
        "colab_type": "code",
        "colab": {}
      },
      "cell_type": "code",
      "source": [
        "X=data.iloc[:,:-1]\n",
        "Y=data.iloc[:,-1]\n",
        "\n",
        "col=X.shape[1]\n",
        "for i in range(col):\n",
        "  X[i+1,i+1]=X.iloc[:,i]*X.iloc[:,i]\n",
        "\n",
        "X_train=X[0:int(0.8*X.shape[0])]\n",
        "Y_train=Y[0:int(0.8*Y.shape[0])]\n",
        "X_test=X[int(0.8*X.shape[0]):X.shape[0]]\n",
        "Y_test=Y[int(0.8*Y.shape[0]):Y.shape[0]]\n",
        "\n",
        "X_train.insert(0,'x0',1)\n",
        "X_test.insert(0,'x0',1)"
      ],
      "execution_count": 0,
      "outputs": []
    },
    {
      "metadata": {
        "colab_type": "code",
        "outputId": "480fbadb-96b9-46e0-a3e3-a0ec613246fd",
        "id": "D_Jgb9GjDA3s",
        "colab": {
          "base_uri": "https://localhost:8080/",
          "height": 35
        }
      },
      "cell_type": "code",
      "source": [
        "theta=[0 for i in range(X_train.shape[1])]\n",
        "alpha=0.03\n",
        "for i in range(1000):\n",
        "  h_theta=sigmoid(np.dot(X_train,np.transpose(theta)))\n",
        "  sub=h_theta-Y_train\n",
        "  theta=theta-(np.dot(np.transpose(sub),X_train))*(alpha/X_train.shape[0])  \n",
        "print(theta)"
      ],
      "execution_count": 86,
      "outputs": [
        {
          "output_type": "stream",
          "text": [
            "[ 0.45567924 -0.32879889 -0.00960571 -1.17698009 -0.82813414]\n"
          ],
          "name": "stdout"
        }
      ]
    },
    {
      "metadata": {
        "colab_type": "code",
        "outputId": "0ca6a2d0-5267-4e49-e6ac-2a31a7e506c1",
        "id": "Gagq9EhYDA4k",
        "colab": {
          "base_uri": "https://localhost:8080/",
          "height": 72
        }
      },
      "cell_type": "code",
      "source": [
        "pr=sigmoid(np.dot(X_test,theta))\n",
        "c=[]\n",
        "for i in pr:\n",
        "  if(i>0.5):\n",
        "    c.append(1)\n",
        "  else:\n",
        "    c.append(0)\n",
        "print(c)\n",
        "print(*Y_test)\n",
        "\n",
        "correct = (c == Y_test)\n",
        "accuracy = correct.sum() / correct.size\n",
        "accuracy"
      ],
      "execution_count": 87,
      "outputs": [
        {
          "output_type": "stream",
          "text": [
            "[0, 0, 0, 0, 0, 1, 1, 0, 1, 1, 1, 0, 1, 0, 1, 1, 0, 1, 1, 0, 0, 0, 1, 0]\n",
            "0 0 1 0 1 0 1 0 1 1 0 0 1 0 1 1 0 0 0 1 1 0 1 1\n"
          ],
          "name": "stdout"
        },
        {
          "output_type": "execute_result",
          "data": {
            "text/plain": [
              "0.625"
            ]
          },
          "metadata": {
            "tags": []
          },
          "execution_count": 87
        }
      ]
    }
  ]
}