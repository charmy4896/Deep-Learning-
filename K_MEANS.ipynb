{
  "nbformat": 4,
  "nbformat_minor": 0,
  "metadata": {
    "colab": {
      "name": "K_MEANS.ipynb",
      "version": "0.3.2",
      "provenance": []
    },
    "kernelspec": {
      "display_name": "Python 3",
      "language": "python",
      "name": "python3"
    }
  },
  "cells": [
    {
      "metadata": {
        "id": "PtboxESNj-mQ",
        "colab_type": "code",
        "colab": {}
      },
      "cell_type": "code",
      "source": [
        "from copy import deepcopy\n",
        "import numpy as np # linear algebra\n",
        "import pandas as pd # data processing, CSV file I/O (e.g. pd.read_csv)\n",
        "from matplotlib import pyplot as plt\n",
        "from sklearn.metrics import accuracy_score"
      ],
      "execution_count": 0,
      "outputs": []
    },
    {
      "metadata": {
        "id": "ZNLNQneSkGiH",
        "colab_type": "code",
        "colab": {}
      },
      "cell_type": "code",
      "source": [
        "from pydrive.auth import GoogleAuth\n",
        "from pydrive.drive import GoogleDrive\n",
        "from google.colab import auth\n",
        "from oauth2client.client import GoogleCredentials\n",
        "\n",
        "from matplotlib import pyplot as plt\n",
        "import pandas as pd\n",
        "from copy import deepcopy\n",
        "import numpy as np\n",
        "\n",
        "def GoogleDriveAuth(ID):\n",
        "    auth.authenticate_user()\n",
        "    gauth = GoogleAuth()\n",
        "    gauth.credentials = GoogleCredentials.get_application_default()\n",
        "    drive = GoogleDrive(gauth)\n",
        "    file = drive.CreateFile({'id': ID})\n",
        "    return file\n",
        "\n",
        "\n",
        "File_ID = '1OMNHK9-1pVan1JttLBiAP-64fl8xhESk'\n",
        "file_name = GoogleDriveAuth(File_ID)\n",
        "file_name.GetContentFile('iris.csv')\n",
        "df = pd.read_csv(\"iris.csv\") #load the dataset"
      ],
      "execution_count": 0,
      "outputs": []
    },
    {
      "metadata": {
        "id": "dIEtLorHj-mu",
        "colab_type": "code",
        "colab": {}
      },
      "cell_type": "code",
      "source": [
        "# Change categorical data to number 0-2\n",
        "df[\"class\"] = pd.Categorical(df[\"class\"])\n",
        "df[\"class\"] = df[\"class\"].cat.codes\n",
        "# Change dataframe to numpy matrix\n",
        "data = df.values[:, 0:4]\n",
        "y_values=df.values[:,4]\n",
        "category = df.values[:, 4]"
      ],
      "execution_count": 0,
      "outputs": []
    },
    {
      "metadata": {
        "id": "Z7sPkT-Bj-n3",
        "colab_type": "code",
        "colab": {}
      },
      "cell_type": "code",
      "source": [
        "def distance(point,centers):\n",
        "    a=np.sqrt(np.square(point[0]-centers[0][0])+np.square(point[1]-centers[0][1])+np.square(point[2]-centers[0][2])+np.square(point[3]-centers[0][3]))\n",
        "    b=np.sqrt(np.square(point[0]-centers[1][0])+np.square(point[1]-centers[1][1])+np.square(point[2]-centers[1][2])+np.square(point[3]-centers[1][3]))\n",
        "    c=np.sqrt(np.square(point[0]-centers[2][0])+np.square(point[1]-centers[2][1])+np.square(point[2]-centers[2][2])+np.square(point[3]-centers[2][3])) \n",
        "    return a,b,c                                                                                                                                              "
      ],
      "execution_count": 0,
      "outputs": []
    },
    {
      "metadata": {
        "id": "DlRaPUVFj-mz",
        "colab_type": "code",
        "outputId": "d142d9f9-53e5-42a0-c12d-688eecc59a1a",
        "colab": {
          "base_uri": "https://localhost:8080/",
          "height": 366
        }
      },
      "cell_type": "code",
      "source": [
        "# Number of clusters\n",
        "k = 3\n",
        "# Number of training data\n",
        "n = data.shape[0]\n",
        "# Number of features in the data\n",
        "c = data.shape[1]\n",
        "\n",
        "# Generate random centers, here we use sigma and mean to ensure it represent the whole data\n",
        "mean = np.mean(data, axis = 0)\n",
        "std = np.std(data, axis = 0)\n",
        "centers = np.random.randn(k,c)*std + mean\n",
        "\n",
        "# Plot the data and the centers generated as random\n",
        "colors=['orange', 'blue', 'green']\n",
        "for i in range(n):\n",
        "    plt.scatter(data[i, 0], data[i,1], s=7, color = colors[int(category[i])])\n",
        "plt.scatter(centers[:,0], centers[:,1], marker='*', c='g', s=150)"
      ],
      "execution_count": 0,
      "outputs": [
        {
          "output_type": "execute_result",
          "data": {
            "text/plain": [
              "<matplotlib.collections.PathCollection at 0x7f39fec1c358>"
            ]
          },
          "metadata": {
            "tags": []
          },
          "execution_count": 22
        },
        {
          "output_type": "display_data",
          "data": {
            "image/png": "[encoded data removed]",
            "text/plain": [
              "<Figure size 576x396 with 1 Axes>"
            ]
          },
          "metadata": {
            "tags": []
          }
        }
      ]
    },
    {
      "metadata": {
        "id": "pHS460Xfj-m5",
        "colab_type": "code",
        "outputId": "f93e37ac-4471-46ee-bde5-d0e47a4c69c1",
        "colab": {
          "base_uri": "https://localhost:8080/",
          "height": 366
        }
      },
      "cell_type": "code",
      "source": [
        "#Finding new Centers\n",
        "\n",
        "centers_old = np.zeros(centers.shape) # to store old centers\n",
        "centers_new = deepcopy(centers) # Store new centers\n",
        "\n",
        "data.shape\n",
        "clusters = np.zeros(n)\n",
        "distances = np.zeros((n,k))\n",
        "\n",
        "error = np.linalg.norm(centers_new - centers_old)\n",
        "\n",
        "# When, after an update, the estimate of that center stays the same, exit loop\n",
        "while error != 0:\n",
        "    # Measure the distance to every center\n",
        "    for i in range(k):\n",
        "        distances[:,i] = np.linalg.norm(data - centers[i], axis=1)\n",
        "    # Assign all training data to closest center\n",
        "    clusters = np.argmin(distances, axis = 1)\n",
        "    \n",
        "    centers_old = deepcopy(centers_new)\n",
        "    # Calculate mean for every cluster and update the center\n",
        "    for i in range(k):\n",
        "        centers_new[i] = np.mean(data[clusters == i], axis=0)\n",
        "    error = np.linalg.norm(centers_new - centers_old)\n",
        "\n",
        "# Plot the data and the centers generated using user define\n",
        "colors=['orange', 'blue', 'green']\n",
        "for i in range(n):\n",
        "    plt.scatter(data[i, 0], data[i,1], s=7, color = colors[int(category[i])])\n",
        "plt.scatter(centers_new[:,0], centers_new[:,1], marker='*', c='g', s=150)"
      ],
      "execution_count": 0,
      "outputs": [
        {
          "output_type": "execute_result",
          "data": {
            "text/plain": [
              "<matplotlib.collections.PathCollection at 0x7f39fe27f240>"
            ]
          },
          "metadata": {
            "tags": []
          },
          "execution_count": 45
        },
        {
          "output_type": "display_data",
          "data": {
            "image/png": "[encoded data removed]",
            "text/plain": [
              "<Figure size 576x396 with 1 Axes>"
            ]
          },
          "metadata": {
            "tags": []
          }
        }
      ]
    },
    {
      "metadata": {
        "id": "bsV7ObMxj-nG",
        "colab_type": "code",
        "outputId": "a1391bc2-9908-4070-dbac-f9bfd9144cf6",
        "colab": {
          "base_uri": "https://localhost:8080/",
          "height": 366
        }
      },
      "cell_type": "code",
      "source": [
        "from sklearn.cluster import KMeans\n",
        "import numpy as np\n",
        "\n",
        "kmeans = KMeans(n_clusters=3, random_state=0).fit(data)\n",
        "#print(kmeans.labels_)\n",
        "# Plot the data and the centers generated using kmeans inbuilt\n",
        "colors=['orange', 'blue', 'green']\n",
        "for i in range(n):\n",
        "    plt.scatter(data[i, 0], data[i,1], s=7, color = colors[int(category[i])])\n",
        "plt.scatter(kmeans.cluster_centers_[:,0], kmeans.cluster_centers_[:,1], marker='*', c='g', s=150)"
      ],
      "execution_count": 0,
      "outputs": [
        {
          "output_type": "execute_result",
          "data": {
            "text/plain": [
              "<matplotlib.collections.PathCollection at 0x7f39fe108320>"
            ]
          },
          "metadata": {
            "tags": []
          },
          "execution_count": 46
        },
        {
          "output_type": "display_data",
          "data": {
            "image/png": "[encoded data removed]",
            "text/plain": [
              "<Figure size 576x396 with 1 Axes>"
            ]
          },
          "metadata": {
            "tags": []
          }
        }
      ]
    },
    {
      "metadata": {
        "id": "0QTqjxWej-np",
        "colab_type": "code",
        "outputId": "10611688-15aa-4b01-fb1a-67a28b354a38",
        "colab": {
          "base_uri": "https://localhost:8080/",
          "height": 72
        }
      },
      "cell_type": "code",
      "source": [
        "centers_new"
      ],
      "execution_count": 0,
      "outputs": [
        {
          "output_type": "execute_result",
          "data": {
            "text/plain": [
              "array([[5.32638889, 3.25694444, 2.29722222, 0.56527778],\n",
              "       [6.49701493, 2.93880597, 5.33134328, 1.87910448],\n",
              "       [5.24545455, 2.42727273, 3.74545455, 1.2       ]])"
            ]
          },
          "metadata": {
            "tags": []
          },
          "execution_count": 47
        }
      ]
    },
    {
      "metadata": {
        "id": "ntmbwBzIj-nt",
        "colab_type": "code",
        "outputId": "223704c3-ecbc-4fd8-a801-52472be10278",
        "colab": {
          "base_uri": "https://localhost:8080/",
          "height": 72
        }
      },
      "cell_type": "code",
      "source": [
        "kmeans.cluster_centers_"
      ],
      "execution_count": 0,
      "outputs": [
        {
          "output_type": "execute_result",
          "data": {
            "text/plain": [
              "array([[5.9016129 , 2.7483871 , 4.39354839, 1.43387097],\n",
              "       [5.006     , 3.418     , 1.464     , 0.244     ],\n",
              "       [6.85      , 3.07368421, 5.74210526, 2.07105263]])"
            ]
          },
          "metadata": {
            "tags": []
          },
          "execution_count": 48
        }
      ]
    },
    {
      "metadata": {
        "id": "Xpbz8AM_j-n8",
        "colab_type": "code",
        "outputId": "0aa21d97-1a0e-43b0-fc0f-003c7ed58ffb",
        "colab": {
          "base_uri": "https://localhost:8080/",
          "height": 35
        }
      },
      "cell_type": "code",
      "source": [
        "#inbuilt accuracy\n",
        "predicted_class=[]\n",
        "for i in range (n):\n",
        "    #print(data[i])\n",
        "    #print(centers_new)\n",
        "    a,b,c=distance(data[i],kmeans.cluster_centers_)\n",
        "   # print(a,b,c)\n",
        "    clas=min(a,b,c)\n",
        "    if(clas==a):\n",
        "        predicted_class.append(1)\n",
        "    elif(clas==b):\n",
        "        predicted_class.append(0)\n",
        "    elif(clas==c):\n",
        "        predicted_class.append(2)\n",
        "\n",
        "import numpy as np\n",
        "from sklearn.metrics import accuracy_score\n",
        "accuracy_inbuilt = accuracy_score(predicted_class, y_values)\n",
        "print(accuracy_inbuilt)"
      ],
      "execution_count": 0,
      "outputs": [
        {
          "output_type": "stream",
          "text": [
            "0.8933333333333333\n"
          ],
          "name": "stdout"
        }
      ]
    },
    {
      "metadata": {
        "id": "3fJ6ZMUvj-oS",
        "colab_type": "code",
        "outputId": "b063cd9d-5eda-4398-fa1c-00f47c5824b2",
        "colab": {
          "base_uri": "https://localhost:8080/",
          "height": 35
        }
      },
      "cell_type": "code",
      "source": [
        "#userdefine accuracy\n",
        "predicted_class=[]\n",
        "for i in range (n):\n",
        "    #print(data[i])\n",
        "    #print(centers_new)\n",
        "    a,b,c=distance(data[i],centers_new)\n",
        "   # print(a,b,c)\n",
        "    clas=min(a,b,c)\n",
        "    if(clas==a):\n",
        "        predicted_class.append(0)\n",
        "    elif(clas==b):\n",
        "        predicted_class.append(2)\n",
        "    elif(clas==c):\n",
        "        predicted_class.append(1)\n",
        "\n",
        "#print(predicted_class)\n",
        "import numpy as np\n",
        "from sklearn.metrics import accuracy_score\n",
        "accuracy_userdefine = accuracy_score(predicted_class, y_values)\n",
        "print(accuracy_userdefine)"
      ],
      "execution_count": 0,
      "outputs": [
        {
          "output_type": "stream",
          "text": [
            "0.8533333333333334\n"
          ],
          "name": "stdout"
        }
      ]
    },
    {
      "metadata": {
        "id": "9xwr3sviY_4o",
        "colab_type": "code",
        "colab": {}
      },
      "cell_type": "code",
      "source": [
        ""
      ],
      "execution_count": 0,
      "outputs": []
    }
  ]
}